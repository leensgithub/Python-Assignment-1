{
  "nbformat": 4,
  "nbformat_minor": 0,
  "metadata": {
    "colab": {
      "provenance": []
    },
    "kernelspec": {
      "name": "python3",
      "display_name": "Python 3"
    },
    "language_info": {
      "name": "python"
    }
  },
  "cells": [
    {
      "cell_type": "code",
      "execution_count": 38,
      "metadata": {
        "colab": {
          "base_uri": "https://localhost:8080/"
        },
        "id": "nleFOc85tCI8",
        "outputId": "6483648f-cb5f-47a7-bfa7-6261583cd68f"
      },
      "outputs": [
        {
          "output_type": "stream",
          "name": "stdout",
          "text": [
            "Enter the name : haya\n",
            "Enter the roll number : 1\n",
            "Enter the mark : 199\n",
            "Name : haya\n",
            "Roll no :  1\n",
            "Mark :  199\n"
          ]
        }
      ],
      "source": [
        "#Question 1\n",
        "name=input(\"Enter the name : \")\n",
        "roll=input(\"Enter the roll number : \")\n",
        "mark=input(\"Enter the mark : \")\n",
        "print(\"Name :\",name)\n",
        "print(\"Roll no : \",roll)\n",
        "print(\"Mark : \",mark)\n"
      ]
    },
    {
      "cell_type": "code",
      "source": [
        "#Question 2\n",
        "tempr=float (input(\"Temperature in Faranheit = \"))\n",
        "f=(tempr * 9/5) + 32  \n",
        "print(\"Temperature in Celsius = \" ,f)"
      ],
      "metadata": {
        "colab": {
          "base_uri": "https://localhost:8080/"
        },
        "id": "mNu-qoQLuqAP",
        "outputId": "51a0bcf2-2529-4639-d799-6157850cda46"
      },
      "execution_count": null,
      "outputs": [
        {
          "output_type": "stream",
          "name": "stdout",
          "text": [
            "Temperature in Faranheit = 12\n",
            "Temperature in Celsius =  53.6\n"
          ]
        }
      ]
    },
    {
      "cell_type": "code",
      "source": [
        "#Question 3\n",
        "num1=input(\"Enter First number : \")\n",
        "num2=input(\"Enter Second number : \")\n",
        "mult = float (num1)* float(num2)\n",
        "print(\"product of  {} and {} is {}\".format(num1,num2,mult))\n"
      ],
      "metadata": {
        "colab": {
          "base_uri": "https://localhost:8080/"
        },
        "id": "Fy8E8tWdzciu",
        "outputId": "39dc93bb-36e2-4be7-9f07-a7490fd51404"
      },
      "execution_count": null,
      "outputs": [
        {
          "output_type": "stream",
          "name": "stdout",
          "text": [
            "Enter First number : 1\n",
            "Enter Second number : 2\n",
            "product of  1 and 2 is 2.0\n"
          ]
        }
      ]
    },
    {
      "cell_type": "code",
      "source": [
        "#Question 4\n",
        "print(\"Learn Python by Developing a Website\")\n",
        "print('Learn'+'**'\"Python**by Developing a**Website**\")"
      ],
      "metadata": {
        "colab": {
          "base_uri": "https://localhost:8080/"
        },
        "outputId": "b386a561-53c9-44cd-cb19-1f824fa2eadb",
        "id": "iZJ3MepwcLY3"
      },
      "execution_count": null,
      "outputs": [
        {
          "output_type": "stream",
          "name": "stdout",
          "text": [
            "Learn Python by Developing a Website\n",
            "Learn**Python**by Developing a**Website**\n"
          ]
        }
      ]
    },
    {
      "cell_type": "code",
      "source": [
        "#Question 5\n",
        "import math as M  \n",
        "Radius = float (input (\" Enter the radius of the given circle: \"))  \n",
        "area = M.pi* Radius * Radius  \n",
        "print (\" Area of the  circle is: \", area)  "
      ],
      "metadata": {
        "colab": {
          "base_uri": "https://localhost:8080/"
        },
        "id": "RRvvIIA_Chpo",
        "outputId": "c80a1ccb-2457-4938-e909-208b762b29af"
      },
      "execution_count": null,
      "outputs": [
        {
          "output_type": "stream",
          "name": "stdout",
          "text": [
            " Enter the radius of the given circle: 2\n",
            " The area of the  circle is:  12.566370614359172\n"
          ]
        }
      ]
    },
    {
      "cell_type": "code",
      "source": [
        "#Question 6\n",
        "lst = [100, 200, 300, 400, 500]\n",
        "print(lst)\n",
        "print(\"List =\",lst)\n",
        "newnum=int( input(\"Enter the number to be inserted  \"))\n",
        "position=int (input(\"Enter the position  \"))\n",
        "lst.insert(position, newnum)\n",
        "print(lst)"
      ],
      "metadata": {
        "colab": {
          "base_uri": "https://localhost:8080/"
        },
        "id": "gqL7eD7xHYTV",
        "outputId": "732626d6-cf0e-4d2a-ad33-63957f1540b3"
      },
      "execution_count": null,
      "outputs": [
        {
          "output_type": "stream",
          "name": "stdout",
          "text": [
            "[100, 200, 300, 400, 500]\n",
            "List = [100, 200, 300, 400, 500]\n",
            "Enter the number to be inserted  1\n",
            "Enter the position  3\n",
            "[100, 200, 300, 1, 400, 500]\n"
          ]
        }
      ]
    },
    {
      "cell_type": "code",
      "source": [
        "#Question 7\n",
        "sample_dict = { \"name\": \"John\", \"age\":5, \"salary\": 8000, \"city\": \"New York\"}\n",
        "sample_dict['Location'] = sample_dict['city']\n",
        "print(sample_dict)"
      ],
      "metadata": {
        "colab": {
          "base_uri": "https://localhost:8080/"
        },
        "id": "bz3HaQKvQq5b",
        "outputId": "31a8b28c-43d9-43dc-8a1b-5335dc51149f"
      },
      "execution_count": null,
      "outputs": [
        {
          "output_type": "stream",
          "name": "stdout",
          "text": [
            "{'name': 'John', 'age': 5, 'salary': 8000, 'Location': 'New York'}\n"
          ]
        }
      ]
    },
    {
      "cell_type": "code",
      "source": [],
      "metadata": {
        "id": "RnQJwK3VUEKf"
      },
      "execution_count": null,
      "outputs": []
    },
    {
      "cell_type": "code",
      "source": [
        "#Question 8\n",
        "sample_dict = {\n",
        "'emp1': {'name': 'John', 'salary': 7500},\n",
        "'emp2': {'name': 'Emma', 'salary': 8000},\n",
        "'emp3': {'name': 'Brad', 'salary': 500}\n",
        "}\n",
        "print(sample_dict)\n",
        "sample_dict['emp3']['salary'] = 8500\n",
        "print(sample_dict)\n"
      ],
      "metadata": {
        "colab": {
          "base_uri": "https://localhost:8080/"
        },
        "id": "WebLQIVmSypj",
        "outputId": "e55c1a91-3c3d-4c71-ba7d-3fbff6cd57d8"
      },
      "execution_count": 41,
      "outputs": [
        {
          "output_type": "stream",
          "name": "stdout",
          "text": [
            "{'emp1': {'name': 'John', 'salary': 7500}, 'emp2': {'name': 'Emma', 'salary': 8000}, 'emp3': {'name': 'Brad', 'salary': 500}}\n",
            "{'emp1': {'name': 'John', 'salary': 7500}, 'emp2': {'name': 'Emma', 'salary': 8000}, 'emp3': {'name': 'Brad', 'salary': 8500}}\n"
          ]
        }
      ]
    },
    {
      "cell_type": "code",
      "source": [
        "#Question 9\n",
        "tuple1 = (10, 20, 43, 54, 56, 68)\n",
        "tuple2 = tuple1[2:4]\n",
        "print(\"New Tuple is :\" ,tuple2)  "
      ],
      "metadata": {
        "colab": {
          "base_uri": "https://localhost:8080/"
        },
        "id": "FOZGxwt5hwGz",
        "outputId": "1b59f5a4-8083-4478-c364-f59495403fe5"
      },
      "execution_count": 60,
      "outputs": [
        {
          "output_type": "stream",
          "name": "stdout",
          "text": [
            "New Tuple is : (43, 54)\n"
          ]
        }
      ]
    },
    {
      "cell_type": "code",
      "source": [
        "#Question 10\n",
        "tuple1= (50, 10, 60, 70, 50,83,567,50,81)\n",
        "count = tuple1.count(50)\n",
        "print(\"The number of occurrences of item 50 in tuple :\",count)\n"
      ],
      "metadata": {
        "colab": {
          "base_uri": "https://localhost:8080/"
        },
        "id": "r5deMlhbfAab",
        "outputId": "904ccd15-f4a5-4a9f-9f12-5047621801bd"
      },
      "execution_count": 47,
      "outputs": [
        {
          "output_type": "stream",
          "name": "stdout",
          "text": [
            "The number of occurrences of item 50 in tuple : 3\n"
          ]
        }
      ]
    }
  ]
}